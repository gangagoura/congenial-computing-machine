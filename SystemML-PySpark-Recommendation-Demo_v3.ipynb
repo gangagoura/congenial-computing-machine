{
 "cells": [
  {
   "cell_type": "markdown",
   "metadata": {},
   "source": [
    "<div class=\"alert alert-block alert-info\" style=\"margin-top: 20px\">\n",
    "    <a href=\"https://cocl.us/System_ML_notebook\">\n",
    "         <img src=\"https://s3-api.us-geo.objectstorage.softlayer.net/cf-courses-data/CognitiveClass/ML0111EN/Ad/TopAd.png\" width=\"750\" align=\"center\">\n",
    "    </a>\n",
    "</div>"
   ]
  },
  {
   "cell_type": "markdown",
   "metadata": {},
   "source": [
    "<a href=\"https://cognitiveclass.ai/\">\n",
    "    <img src=\"https://s3-api.us-geo.objectstorage.softlayer.net/cf-courses-data/CognitiveClass/ML0111EN/Ad/CCLog.png\" width=\"200\" align=\"center\">\n",
    "</a>"
   ]
  },
  {
   "cell_type": "markdown",
   "metadata": {},
   "source": [
    "# SystemML PySpark Recommendation Demo"
   ]
  },
  {
   "cell_type": "markdown",
   "metadata": {},
   "source": [
    "This demo exercise is for the somewhat advanced user and will show you how to use PySpark to create a recommendation system. It is 'recommneded' (pun intended) that you at least understand or have used the PNMF algorithm before and are now wanted to see how it is done using SystemML."
   ]
  },
  {
   "cell_type": "markdown",
   "metadata": {},
   "source": [
    "Load and import a few things to get started."
   ]
  },
  {
   "cell_type": "code",
   "execution_count": null,
   "metadata": {
    "collapsed": false
   },
   "outputs": [],
   "source": [
    "%load_ext autoreload\n",
    "%autoreload 2\n",
    "%matplotlib inline\n",
    "\n",
    "import numpy as np\n",
    "import matplotlib.pyplot as plt\n",
    "plt.rcParams['figure.figsize'] = (10, 6)"
   ]
  },
  {
   "cell_type": "markdown",
   "metadata": {},
   "source": [
    "# Data"
   ]
  },
  {
   "cell_type": "markdown",
   "metadata": {},
   "source": [
    "Download the dataset"
   ]
  },
  {
   "cell_type": "code",
   "execution_count": null,
   "metadata": {
    "collapsed": false
   },
   "outputs": [],
   "source": [
    "%%sh\n",
    "curl -O http://snap.stanford.edu/data/amazon0601.txt.gz\n",
    "gunzip amazon0601.txt.gz"
   ]
  },
  {
   "cell_type": "markdown",
   "metadata": {},
   "source": [
    "Load the data and prepare it for the processing."
   ]
  },
  {
   "cell_type": "code",
   "execution_count": null,
   "metadata": {
    "collapsed": false
   },
   "outputs": [],
   "source": [
    "import pyspark.sql.functions as F\n",
    "dataPath = \"amazon0601.txt\"\n",
    "\n",
    "X_train = (sc.textFile(dataPath)\n",
    "    .filter(lambda l: not l.startswith(\"#\"))\n",
    "    .map(lambda l: l.split(\"\\t\"))\n",
    "    .map(lambda prods: (int(prods[0]), int(prods[1]), 1.0))\n",
    "    .toDF((\"prod_i\", \"prod_j\", \"x_ij\"))\n",
    "    .filter(\"prod_i < 500 AND prod_j < 500\") # Filter for memory constraints\n",
    "    .cache())\n",
    "\n",
    "max_prod_i = X_train.select(F.max(\"prod_i\")).first()[0]\n",
    "max_prod_j = X_train.select(F.max(\"prod_j\")).first()[0]\n",
    "numProducts = max(max_prod_i, max_prod_j) + 1 # 0-based indexing\n",
    "print(\"Total number of products: {}\".format(numProducts))"
   ]
  },
  {
   "cell_type": "markdown",
   "metadata": {},
   "source": [
    "# SystemML - Poisson Nonnegative Matrix Factorization (PNMF)"
   ]
  },
  {
   "cell_type": "markdown",
   "metadata": {},
   "source": [
    "Create <code>SystemML MLContext</code>"
   ]
  },
  {
   "cell_type": "code",
   "execution_count": null,
   "metadata": {
    "collapsed": true
   },
   "outputs": [],
   "source": [
    "from systemml import MLContext, dml\n",
    "ml = MLContext(sc)"
   ]
  },
  {
   "cell_type": "markdown",
   "metadata": {},
   "source": [
    "Define PNMF kernel in SystemML's DML using the R-like syntax for PNMF"
   ]
  },
  {
   "cell_type": "code",
   "execution_count": null,
   "metadata": {
    "collapsed": false
   },
   "outputs": [],
   "source": [
    "pnmf = \"\"\"\n",
    "# data & args\n",
    "X = X+1 # change product IDs to be 1-based, rather than 0-based\n",
    "V = table(X[,1], X[,2])\n",
    "size = ifdef($size, -1)\n",
    "if(size > -1) {\n",
    "    V = V[1:size,1:size]\n",
    "}\n",
    "\n",
    "n = nrow(V)\n",
    "m = ncol(V)\n",
    "range = 0.01\n",
    "W = Rand(rows=n, cols=rank, min=0, max=range, pdf=\"uniform\")\n",
    "H = Rand(rows=rank, cols=m, min=0, max=range, pdf=\"uniform\")\n",
    "losses = matrix(0, rows=max_iter, cols=1)\n",
    "\n",
    "# run PNMF\n",
    "i=1\n",
    "while(i <= max_iter) {\n",
    "  # update params\n",
    "  H = (H * (t(W) %*% (V/(W%*%H))))/t(colSums(W))\n",
    "  W = (W * ((V/(W%*%H)) %*% t(H)))/t(rowSums(H))\n",
    "\n",
    "  # compute loss\n",
    "  losses[i,] = -1 * (sum(V*log(W%*%H)) - as.scalar(colSums(W)%*%rowSums(H)))\n",
    "  i = i + 1;\n",
    "}\n",
    "\"\"\""
   ]
  },
  {
   "cell_type": "markdown",
   "metadata": {},
   "source": [
    "Run the PNMF script on SystemML with Spark"
   ]
  },
  {
   "cell_type": "code",
   "execution_count": null,
   "metadata": {
    "collapsed": false
   },
   "outputs": [],
   "source": [
    "script = dml(pnmf).input(X=X_train, max_iter=100, rank=10).output(\"W\", \"H\", \"losses\")\n",
    "W, H, losses = ml.execute(script).get(\"W\", \"H\", \"losses\")"
   ]
  },
  {
   "cell_type": "markdown",
   "metadata": {},
   "source": [
    "Plot training loss over time"
   ]
  },
  {
   "cell_type": "code",
   "execution_count": null,
   "metadata": {
    "collapsed": false
   },
   "outputs": [],
   "source": [
    "xy = losses.toDF().sort(\"__INDEX\").rdd.map(lambda r: (r[0], r[1])).collect()\n",
    "x, y = zip(*xy)\n",
    "plt.plot(x, y)\n",
    "plt.xlabel('Iteration')\n",
    "plt.ylabel('Loss')\n",
    "plt.title('PNMF Training Loss')"
   ]
  },
  {
   "cell_type": "markdown",
   "metadata": {},
   "source": [
    "<div class=\"alert alert-block alert-info\" style=\"margin-top: 20px\">\n",
    "<h2>Get IBM Watson Studio free of charge!</h2>\n",
    "    <p><a href=\"https://cocl.us/System_ML_notebook\"><img src=\"https://s3-api.us-geo.objectstorage.softlayer.net/cf-courses-data/CognitiveClass/ML0111EN/Ad/BottomAd.png\" width=\"750\" align=\"center\"></a></p>\n",
    "</div>"
   ]
  }
 ],
 "metadata": {
  "kernelspec": {
   "display_name": "Python 3",
   "language": "python",
   "name": "python3"
  },
  "language_info": {
   "codemirror_mode": {
    "name": "ipython",
    "version": 3
   },
   "file_extension": ".py",
   "mimetype": "text/x-python",
   "name": "python",
   "nbconvert_exporter": "python",
   "pygments_lexer": "ipython3",
   "version": "3.6.6"
  },
  "widgets": {
   "state": {},
   "version": "1.1.2"
  }
 },
 "nbformat": 4,
 "nbformat_minor": 2
}
